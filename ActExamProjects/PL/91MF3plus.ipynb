{
 "cells": [
  {
   "cell_type": "markdown",
   "metadata": {},
   "source": [
    "# 91 Egzamin Aktuarialny Matematyka Finansowa Zadanie 3\n",
    "*Niech $𝑇 = 2.5$. Rozważmy 15-letnią obligację zmiennokuponową o nominale $100$, wystawioną w chwili $0$. Kupony obligacji płatne są na koniec każdego roku, w oparciu\n",
    "o roczną stopę obserwowaną na początku roku, za który płacony jest kupon. Załóżmy, że $r_{2,5}^{0,5}=2,27 %$, $r_{2,5}^1=3,24 %$, $r_2^1=1.74 %$ (wszystkie w/w stopy w wymiarze\n",
    "rocznym, $r_t^s$ opisuje w chwili $𝑡$ stopę dla okresu $𝑠$). Proszę wyznaczyć wartość obligacji\n",
    "w chwili $𝑇$ (proszę podać najbliższą wartość).*\n",
    "\n",
    "*(A) $100.6$ (B) $100.7$ (C) $100.8$ (D) $100.9$ (E) $101.0$*"
   ]
  }
 ],
 "metadata": {
  "language_info": {
   "name": "python"
  }
 },
 "nbformat": 4,
 "nbformat_minor": 2
}
