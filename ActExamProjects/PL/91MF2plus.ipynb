{
 "cells": [
  {
   "cell_type": "markdown",
   "metadata": {},
   "source": [
    "# 91 Egzamin Aktuarialny Matematyka Finansowa Zadanie 2\n",
    "Przyjmijmy założenia modelu Blacka Scholesa. Rozważmy roczną opcję wymiany, pozwalającą jej posiadaczowi wymienić akcję $ABC$ na akcję $XYZ$. Przyjmijmy, że w chwili $𝑇_0$ zachodzi $𝑆_{𝑇_0}^{ABC}= 𝑆_{𝑇_0}^{XYZ}=50$. Wiadomo, iż:\n",
    "\n",
    "$\\bullet$ roczna stopa wolna od ryzyka wynosi $𝑟 = 3%$,\n",
    "\n",
    "$\\bullet$ współczynniki zmienności cen akcji równe są odpowiednio $\\sigma_{𝐴𝐵𝐶} = 0.1$ oraz $\\sigma_{𝑋𝑌𝑍} = 0.15$,\n",
    "\n",
    "$\\bullet$ roczne stopy dywidendy akcji równe są odpowiednio $\\gamma_{𝐴𝐵𝐶} = 0.05$ oraz $\\gamma_{𝑋𝑌𝑍} = 0.07$,\n",
    "\n",
    "$\\bullet$ współczynnik korelacji między akcjami $ABC$ oraz $XYZ$ wynosi $\\rho = −0.2$.\n",
    "\n",
    "Proszę wyznaczyć cenę opcji wymiany w chwili jej wystawienia w $𝑇_0$ (proszę podać najbliższą wartość).\n",
    "\n",
    "(A) $3.37$ (B) $3.57$ (C) $3.87$ (D) $4.17$ (E) $4.47$"
   ]
  },
  {
   "cell_type": "markdown",
   "metadata": {},
   "source": []
  }
 ],
 "metadata": {
  "language_info": {
   "name": "python"
  }
 },
 "nbformat": 4,
 "nbformat_minor": 2
}
