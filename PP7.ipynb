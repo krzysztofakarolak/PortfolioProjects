{
 "cells": [
  {
   "cell_type": "markdown",
   "id": "d3705895",
   "metadata": {},
   "source": [
    "# BMI Calculator"
   ]
  },
  {
   "cell_type": "code",
   "execution_count": 23,
   "id": "1322e5fa",
   "metadata": {},
   "outputs": [
    {
     "name": "stdout",
     "output_type": "stream",
     "text": [
      "Enter your name: Kris\n",
      "Enter your weight in kilograms: 57\n",
      "Enter your height in meters: 1.75\n",
      "Your BMI:  18.612244897959183\n",
      "Kris, your weight is normal.\n"
     ]
    }
   ],
   "source": [
    "name = input('Enter your name: ')\n",
    "\n",
    "weight = float(input('Enter your weight in kilograms: '))\n",
    "\n",
    "height = float(input('Enter your height in meters: '))\n",
    "\n",
    "BMI=weight/(height*height)\n",
    "\n",
    "print('Your BMI: ',BMI)\n",
    "\n",
    "if BMI>0:\n",
    "    if(BMI<18.5): print(name+', you are underweight.')\n",
    "    elif (BMI<25): print(name+', your weight is normal.')\n",
    "    elif (BMI<30): print(name+', you are overweight.')\n",
    "    elif (BMI<35): print(name+', you are obese.')\n",
    "    elif (BMI<40): print(name+', you are severely obese.')\n",
    "    elif (BMI>=40): print (name+', you are morbidly obese.')\n",
    "else: print('Entered values are invalid.')"
   ]
  },
  {
   "cell_type": "code",
   "execution_count": null,
   "id": "49e79998",
   "metadata": {},
   "outputs": [],
   "source": []
  },
  {
   "cell_type": "code",
   "execution_count": null,
   "id": "0848ad40",
   "metadata": {},
   "outputs": [],
   "source": []
  }
 ],
 "metadata": {
  "kernelspec": {
   "display_name": "Python 3 (ipykernel)",
   "language": "python",
   "name": "python3"
  },
  "language_info": {
   "codemirror_mode": {
    "name": "ipython",
    "version": 3
   },
   "file_extension": ".py",
   "mimetype": "text/x-python",
   "name": "python",
   "nbconvert_exporter": "python",
   "pygments_lexer": "ipython3",
   "version": "3.11.3"
  }
 },
 "nbformat": 4,
 "nbformat_minor": 5
}
