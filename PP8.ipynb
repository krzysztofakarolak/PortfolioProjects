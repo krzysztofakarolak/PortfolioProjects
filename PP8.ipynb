{
 "cells": [
  {
   "cell_type": "markdown",
   "id": "e58a02aa",
   "metadata": {},
   "source": [
    "# Automatic File Sorter in File Explorer"
   ]
  },
  {
   "cell_type": "code",
   "execution_count": 1,
   "id": "709daa2c",
   "metadata": {},
   "outputs": [],
   "source": [
    "import os, shutil       #os=operating system"
   ]
  },
  {
   "cell_type": "code",
   "execution_count": 2,
   "id": "2d8dad61",
   "metadata": {},
   "outputs": [],
   "source": [
    "path = r\"C:/Users/Krzysia/Documents/PortfolioProjects/Tableau/nauka do projektu/\"    #r = read"
   ]
  },
  {
   "cell_type": "code",
   "execution_count": 3,
   "id": "070ed16e",
   "metadata": {},
   "outputs": [],
   "source": [
    "file_n= os.listdir(path)"
   ]
  },
  {
   "cell_type": "code",
   "execution_count": 4,
   "id": "bbb0fb6a",
   "metadata": {},
   "outputs": [
    {
     "name": "stdout",
     "output_type": "stream",
     "text": [
      "['directory.csv', 'przypadkowy1.png', 'przypadkowy2.png', 'przypadkowy3.jpeg', 'przypadkowy4.png', 'przypadkowy5.png', 'Tableau Joins File.xlsx', 'vgsales.csv']\n"
     ]
    }
   ],
   "source": [
    "print(file_n)"
   ]
  },
  {
   "cell_type": "code",
   "execution_count": 5,
   "id": "e8f4cf59",
   "metadata": {},
   "outputs": [
    {
     "name": "stdout",
     "output_type": "stream",
     "text": [
      "C:/Users/Krzysia/Documents/PortfolioProjects/Tableau/nauka do projektu/text files\n",
      "C:/Users/Krzysia/Documents/PortfolioProjects/Tableau/nauka do projektu/excel files\n",
      "C:/Users/Krzysia/Documents/PortfolioProjects/Tableau/nauka do projektu/image files\n"
     ]
    }
   ],
   "source": [
    "folder_names=['text files','excel files','image files']      #making new folders\n",
    "\n",
    "for loop in range(0,3):\n",
    "    if not os.path.exists(path+folder_names[loop]):\n",
    "        print(path+folder_names[loop])\n",
    "        os.makedirs(path+folder_names[loop])\n",
    "        \n",
    "for file in file_n:                                          #sorting files to folders\n",
    "    if '.csv' in file and not os.path.exists(path+'text files/'+file):\n",
    "        shutil.move(path+file,path+'text files/'+file)\n",
    "    elif '.png' in file and not os.path.exists(path+'image files/'+file):\n",
    "        shutil.move(path+file,path+'image files/'+file)\n",
    "    elif '.jpeg' in file and not os.path.exists(path+'image files/'+file):\n",
    "        shutil.move(path+file,path+'image files/'+file)\n",
    "    elif '.xlsx' in file and not os.path.exists(path+'excel files/'+file):\n",
    "        shutil.move(path+file,path+'excel files/'+file)"
   ]
  },
  {
   "cell_type": "code",
   "execution_count": null,
   "id": "d6cdfd30",
   "metadata": {},
   "outputs": [],
   "source": []
  },
  {
   "cell_type": "code",
   "execution_count": null,
   "id": "168ca6d7",
   "metadata": {},
   "outputs": [],
   "source": []
  }
 ],
 "metadata": {
  "kernelspec": {
   "display_name": "Python 3 (ipykernel)",
   "language": "python",
   "name": "python3"
  },
  "language_info": {
   "codemirror_mode": {
    "name": "ipython",
    "version": 3
   },
   "file_extension": ".py",
   "mimetype": "text/x-python",
   "name": "python",
   "nbconvert_exporter": "python",
   "pygments_lexer": "ipython3",
   "version": "3.11.3"
  }
 },
 "nbformat": 4,
 "nbformat_minor": 5
}
